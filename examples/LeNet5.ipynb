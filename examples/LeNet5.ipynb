{
 "cells": [
  {
   "cell_type": "code",
   "execution_count": 321,
   "metadata": {},
   "outputs": [],
   "source": [
    "import sys\n",
    "sys.path.append('../')\n",
    "\n",
    "import torch\n",
    "from torch import nn\n",
    "from torch.utils.data import DataLoader\n",
    "from torchvision import datasets, transforms\n",
    "\n",
    "from architectures.LeNet5 import LeNet5, SubSamplingLayer, C3Conv2DLayer\n",
    "from src.helpers import Device, train\n",
    "from src.metrics import Accuracy\n",
    "\n",
    "import matplotlib.pyplot as plt\n",
    "%matplotlib inline "
   ]
  },
  {
   "cell_type": "code",
   "execution_count": 309,
   "metadata": {},
   "outputs": [
    {
     "name": "stdout",
     "output_type": "stream",
     "text": [
      "The autoreload extension is already loaded. To reload it, use:\n",
      "  %reload_ext autoreload\n"
     ]
    }
   ],
   "source": [
    "%load_ext autoreload\n",
    "%autoreload 2"
   ]
  },
  {
   "cell_type": "code",
   "execution_count": 310,
   "metadata": {},
   "outputs": [],
   "source": [
    "# parameters\n",
    "RANDOM_SEED = 42\n",
    "LEARNING_RATE = 0.001\n",
    "BATCH_SIZE = 32\n",
    "N_EPOCHS = 1\n",
    "\n",
    "IMG_SIZE = 32\n",
    "N_CLASSES = 10"
   ]
  },
  {
   "cell_type": "code",
   "execution_count": 311,
   "metadata": {},
   "outputs": [],
   "source": [
    "# define transforms\n",
    "transforms = transforms.Compose([transforms.Resize((32, 32)), transforms.ToTensor()])"
   ]
  },
  {
   "cell_type": "code",
   "execution_count": 312,
   "metadata": {},
   "outputs": [],
   "source": [
    "# download and create datasets\n",
    "train_dataset = datasets.MNIST(root='./mnist_data', \n",
    "                               train=True, \n",
    "                               transform=transforms,\n",
    "                               download=True)\n",
    "\n",
    "valid_dataset = datasets.MNIST(root='./mnist_data', \n",
    "                               train=False, \n",
    "                               transform=transforms)"
   ]
  },
  {
   "cell_type": "code",
   "execution_count": 313,
   "metadata": {},
   "outputs": [],
   "source": [
    "# define the data loaders\n",
    "train_loader = DataLoader(dataset=train_dataset, \n",
    "                          batch_size=BATCH_SIZE, \n",
    "                          shuffle=True,num_workers=5)\n",
    "\n",
    "valid_loader = DataLoader(dataset=valid_dataset, \n",
    "                          batch_size=1100*BATCH_SIZE, \n",
    "                          shuffle=False,num_workers=5)"
   ]
  },
  {
   "cell_type": "code",
   "execution_count": 314,
   "metadata": {},
   "outputs": [
    {
     "data": {
      "text/plain": [
       "torch.Size([32, 1, 32, 32])"
      ]
     },
     "execution_count": 314,
     "metadata": {},
     "output_type": "execute_result"
    }
   ],
   "source": [
    "batch, y = next(iter(train_loader))\n",
    "batch.shape"
   ]
  },
  {
   "cell_type": "markdown",
   "metadata": {},
   "source": [
    "# Training"
   ]
  },
  {
   "cell_type": "code",
   "execution_count": 315,
   "metadata": {},
   "outputs": [],
   "source": [
    "torch.manual_seed(RANDOM_SEED)\n",
    "device = Device().get()\n",
    "model = LeNet5(N_CLASSES).to(device)"
   ]
  },
  {
   "cell_type": "code",
   "execution_count": 316,
   "metadata": {},
   "outputs": [
    {
     "data": {
      "text/plain": [
       "LeNet5(\n",
       "  (feature_extractor): Sequential(\n",
       "    (0): Conv2d(1, 6, kernel_size=(5, 5), stride=(1, 1))\n",
       "    (1): Atanh()\n",
       "    (2): SubSamplingLayer(\n",
       "      (conv): Conv2d(6, 6, kernel_size=(1, 1), stride=(1, 1), groups=6)\n",
       "    )\n",
       "    (3): Sigmoid()\n",
       "    (4): C3Conv2DLayer(\n",
       "      (conv): Conv2d(6, 16, kernel_size=(5, 5), stride=(1, 1))\n",
       "    )\n",
       "    (5): Atanh()\n",
       "    (6): SubSamplingLayer(\n",
       "      (conv): Conv2d(16, 16, kernel_size=(1, 1), stride=(1, 1), groups=16)\n",
       "    )\n",
       "    (7): Conv2d(16, 120, kernel_size=(5, 5), stride=(1, 1))\n",
       "    (8): Atanh()\n",
       "  )\n",
       "  (classifier): Sequential(\n",
       "    (0): Linear(in_features=120, out_features=84, bias=True)\n",
       "    (1): Atanh()\n",
       "    (2): Linear(in_features=84, out_features=10, bias=True)\n",
       "  )\n",
       ")"
      ]
     },
     "execution_count": 316,
     "metadata": {},
     "output_type": "execute_result"
    }
   ],
   "source": [
    "model"
   ]
  },
  {
   "cell_type": "code",
   "execution_count": 317,
   "metadata": {},
   "outputs": [],
   "source": [
    "optimizer = torch.optim.Adam(model.parameters(), lr=LEARNING_RATE)\n",
    "criterion = nn.CrossEntropyLoss()"
   ]
  },
  {
   "cell_type": "code",
   "execution_count": 322,
   "metadata": {},
   "outputs": [
    {
     "name": "stdout",
     "output_type": "stream",
     "text": [
      "21:14:30 --- Epoch: 0\tTrain loss: 0.2755\tValid loss: 0.1104\tAccuracy: 0.9692\tValidation Accuracy: 0.9660\n",
      "21:15:15 --- Epoch: 1\tTrain loss: 0.0881\tValid loss: 0.0586\tAccuracy: 0.9845\tValidation Accuracy: 0.9814\n",
      "21:16:01 --- Epoch: 2\tTrain loss: 0.0619\tValid loss: 0.0571\tAccuracy: 0.9853\tValidation Accuracy: 0.9823\n",
      "21:17:02 --- Epoch: 3\tTrain loss: 0.0499\tValid loss: 0.0527\tAccuracy: 0.9892\tValidation Accuracy: 0.9838\n",
      "21:17:46 --- Epoch: 4\tTrain loss: 0.0408\tValid loss: 0.0458\tAccuracy: 0.9903\tValidation Accuracy: 0.9849\n",
      "21:18:32 --- Epoch: 5\tTrain loss: 0.0342\tValid loss: 0.0480\tAccuracy: 0.9928\tValidation Accuracy: 0.9845\n",
      "21:19:24 --- Epoch: 6\tTrain loss: 0.0307\tValid loss: 0.0472\tAccuracy: 0.9924\tValidation Accuracy: 0.9859\n",
      "21:20:09 --- Epoch: 7\tTrain loss: 0.0276\tValid loss: 0.0489\tAccuracy: 0.9926\tValidation Accuracy: 0.9847\n",
      "21:20:52 --- Epoch: 8\tTrain loss: 0.0245\tValid loss: 0.0484\tAccuracy: 0.9944\tValidation Accuracy: 0.9855\n",
      "21:21:39 --- Epoch: 9\tTrain loss: 0.0226\tValid loss: 0.0459\tAccuracy: 0.9954\tValidation Accuracy: 0.9863\n",
      "21:22:22 --- Epoch: 10\tTrain loss: 0.0218\tValid loss: 0.0533\tAccuracy: 0.9921\tValidation Accuracy: 0.9846\n",
      "21:23:05 --- Epoch: 11\tTrain loss: 0.0180\tValid loss: 0.0529\tAccuracy: 0.9955\tValidation Accuracy: 0.9850\n",
      "21:23:49 --- Epoch: 12\tTrain loss: 0.0180\tValid loss: 0.0412\tAccuracy: 0.9965\tValidation Accuracy: 0.9887\n",
      "21:24:34 --- Epoch: 13\tTrain loss: 0.0161\tValid loss: 0.0495\tAccuracy: 0.9950\tValidation Accuracy: 0.9861\n",
      "21:25:19 --- Epoch: 14\tTrain loss: 0.0160\tValid loss: 0.0475\tAccuracy: 0.9969\tValidation Accuracy: 0.9874\n",
      "21:26:00 --- Epoch: 15\tTrain loss: 0.0151\tValid loss: 0.0434\tAccuracy: 0.9974\tValidation Accuracy: 0.9876\n",
      "21:26:41 --- Epoch: 16\tTrain loss: 0.0124\tValid loss: 0.0559\tAccuracy: 0.9954\tValidation Accuracy: 0.9857\n",
      "21:27:23 --- Epoch: 17\tTrain loss: 0.0125\tValid loss: 0.0469\tAccuracy: 0.9974\tValidation Accuracy: 0.9878\n",
      "21:28:06 --- Epoch: 18\tTrain loss: 0.0120\tValid loss: 0.0535\tAccuracy: 0.9956\tValidation Accuracy: 0.9860\n",
      "21:28:49 --- Epoch: 19\tTrain loss: 0.0103\tValid loss: 0.0578\tAccuracy: 0.9958\tValidation Accuracy: 0.9840\n",
      "21:29:31 --- Epoch: 20\tTrain loss: 0.0130\tValid loss: 0.0571\tAccuracy: 0.9973\tValidation Accuracy: 0.9853\n",
      "21:30:12 --- Epoch: 21\tTrain loss: 0.0107\tValid loss: 0.0535\tAccuracy: 0.9963\tValidation Accuracy: 0.9867\n",
      "21:30:55 --- Epoch: 22\tTrain loss: 0.0111\tValid loss: 0.0559\tAccuracy: 0.9969\tValidation Accuracy: 0.9872\n",
      "21:31:40 --- Epoch: 23\tTrain loss: 0.0105\tValid loss: 0.0481\tAccuracy: 0.9979\tValidation Accuracy: 0.9883\n",
      "21:32:21 --- Epoch: 24\tTrain loss: 0.0089\tValid loss: 0.0575\tAccuracy: 0.9972\tValidation Accuracy: 0.9860\n",
      "21:33:03 --- Epoch: 25\tTrain loss: 0.0084\tValid loss: 0.0533\tAccuracy: 0.9976\tValidation Accuracy: 0.9874\n",
      "21:33:45 --- Epoch: 26\tTrain loss: 0.0086\tValid loss: 0.0536\tAccuracy: 0.9972\tValidation Accuracy: 0.9861\n",
      "21:34:25 --- Epoch: 27\tTrain loss: 0.0093\tValid loss: 0.0544\tAccuracy: 0.9969\tValidation Accuracy: 0.9874\n",
      "21:35:13 --- Epoch: 28\tTrain loss: 0.0105\tValid loss: 0.0469\tAccuracy: 0.9980\tValidation Accuracy: 0.9876\n",
      "21:35:55 --- Epoch: 29\tTrain loss: 0.0078\tValid loss: 0.0527\tAccuracy: 0.9984\tValidation Accuracy: 0.9874\n",
      "21:36:35 --- Epoch: 30\tTrain loss: 0.0079\tValid loss: 0.0598\tAccuracy: 0.9982\tValidation Accuracy: 0.9867\n",
      "21:37:15 --- Epoch: 31\tTrain loss: 0.0075\tValid loss: 0.0640\tAccuracy: 0.9977\tValidation Accuracy: 0.9853\n",
      "21:37:55 --- Epoch: 32\tTrain loss: 0.0080\tValid loss: 0.0551\tAccuracy: 0.9963\tValidation Accuracy: 0.9859\n",
      "21:38:35 --- Epoch: 33\tTrain loss: 0.0068\tValid loss: 0.0568\tAccuracy: 0.9986\tValidation Accuracy: 0.9876\n",
      "21:39:15 --- Epoch: 34\tTrain loss: 0.0074\tValid loss: 0.0642\tAccuracy: 0.9974\tValidation Accuracy: 0.9857\n",
      "21:39:54 --- Epoch: 35\tTrain loss: 0.0075\tValid loss: 0.0614\tAccuracy: 0.9970\tValidation Accuracy: 0.9877\n",
      "21:40:34 --- Epoch: 36\tTrain loss: 0.0061\tValid loss: 0.0783\tAccuracy: 0.9973\tValidation Accuracy: 0.9842\n",
      "21:41:14 --- Epoch: 37\tTrain loss: 0.0082\tValid loss: 0.0584\tAccuracy: 0.9976\tValidation Accuracy: 0.9875\n",
      "21:41:54 --- Epoch: 38\tTrain loss: 0.0074\tValid loss: 0.0634\tAccuracy: 0.9986\tValidation Accuracy: 0.9874\n",
      "21:42:34 --- Epoch: 39\tTrain loss: 0.0052\tValid loss: 0.0557\tAccuracy: 0.9987\tValidation Accuracy: 0.9873\n"
     ]
    },
    {
     "name": "stderr",
     "output_type": "stream",
     "text": [
      "../src/helpers.py:50: UserWarning: Matplotlib is currently using module://ipykernel.pylab.backend_inline, which is a non-GUI backend, so cannot show the figure.\n",
      "  fig.show()\n"
     ]
    },
    {
     "data": {
      "image/png": "[encoded data removed]",
      "text/plain": [
       "<Figure size 576x324 with 1 Axes>"
      ]
     },
     "metadata": {},
     "output_type": "display_data"
    }
   ],
   "source": [
    "model, optimizer, (train_losses, valid_losses) = train(model, criterion, optimizer, train_loader, valid_loader, 40, device, eval_metrics=[Accuracy()])"
   ]
  }
 ],
 "metadata": {
  "kernelspec": {
   "display_name": "Python 3",
   "language": "python",
   "name": "python3"
  },
  "language_info": {
   "codemirror_mode": {
    "name": "ipython",
    "version": 3
   },
   "file_extension": ".py",
   "mimetype": "text/x-python",
   "name": "python",
   "nbconvert_exporter": "python",
   "pygments_lexer": "ipython3",
   "version": "3.8.6"
  }
 },
 "nbformat": 4,
 "nbformat_minor": 4
}
